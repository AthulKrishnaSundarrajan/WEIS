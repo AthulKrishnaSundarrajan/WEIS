{
 "cells": [
  {
   "cell_type": "markdown",
   "id": "5f60fc74-580e-4cd6-9820-9fa96cc299d6",
   "metadata": {},
   "source": [
    "## Overview\n",
    "This example introduces the basic workings of the derivative function surrogate modeling (DFSM) approach, and demonstrates a usecase for closed-loop simulations.\n",
    "In this context, a closed-loop simulation refers to using the DFSM as the 'plant' for the ROSCO controller, as opposed to OpenFAST.\n",
    "\n",
    "Check out `run_simulation.py` for a demonstration of how to use the DFSM with ROSCO for closed-loop simulation.\n",
    "The DFSM is available in the `dfsm_1p6.pkl` file. This model has been built explicitly for simulating load cases from DLC 1.6.\n",
    "A test case is available in `test_data_1p6.pkl`. This pickle file contains OpenFAST simulation results for a load case in the rated region for DLC 1.6.\n",
    "\n",
    "The script `run_simulation.py` loads the DFSM, and performs a closed-loop simulation for the test case, and compares (via plots) the trajectories for key states, controls, and outputs obtained using the DFSM and OpenFAST.\n",
    "\n",
    "## Model Description\n",
    "The DFSM approximates the system response as a linear parameter-varying (LPV) state-space model with the following structure:\n",
    "\n",
    "dx/dt = A(w)x + B(w)u\n",
    "\n",
    "y = C(w)x + D(w)u\n",
    "\n",
    "The states (x) considered in the model are platform pitch (PtfmPitch), tower top displacement (fore-aft) (TTDspFA), generator speed (GenSpeed), and their first-time derivatives. \n",
    "\n",
    "The controls/inputs (u) are rotor average wind speed (w) (RtVAvgxh), generator torque (GenTq), blade pitch (BldPitch1), and wave elevation (Wave1Elev).\n",
    "\n",
    "The outputs (y) are tower-base fore-aft shear force (TwrBsFxt), side-to-side moment (TwrBsMyt), tower top translational and rotational accelerations (YawBrTAxp, NcIMURAys), and the generator power (GenPwr).\n",
    "\n",
    "## Model Development\n"
   ]
  },
  {
   "cell_type": "code",
   "execution_count": null,
   "id": "f8e3aa00-5522-451e-b288-520e009ab68e",
   "metadata": {},
   "outputs": [],
   "source": []
  }
 ],
 "metadata": {
  "kernelspec": {
   "display_name": "Python 3 (ipykernel)",
   "language": "python",
   "name": "python3"
  },
  "language_info": {
   "codemirror_mode": {
    "name": "ipython",
    "version": 3
   },
   "file_extension": ".py",
   "mimetype": "text/x-python",
   "name": "python",
   "nbconvert_exporter": "python",
   "pygments_lexer": "ipython3",
   "version": "3.8.8"
  }
 },
 "nbformat": 4,
 "nbformat_minor": 5
}
