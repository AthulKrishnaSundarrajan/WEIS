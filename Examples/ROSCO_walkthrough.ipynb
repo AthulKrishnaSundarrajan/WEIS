{
 "cells": [
  {
   "cell_type": "markdown",
   "metadata": {},
   "source": [
    "# Having fun with the ROSCO toolbox \n",
    "#### By: Nikhar J. Abbas, December 12, 2019\n",
    "Here is a little jupyter notebook describing some of the functionalities of the ROSCO toolbox. The goal here is to walk through the process of writing a turbine controller for a new wind turbine model. \n",
    "\n",
    "If you somehow managed to get your hands on this notebook without knowing of it's git repository of origin, here is a link: \n",
    "\n",
    "<center> <a>https://github.com/NREL/ROSCO_toolbox</a> </center>\n",
    "\n",
    "\n",
    "Hopefully you'll learn some hot tips along the way...\n"
   ]
  },
  {
   "cell_type": "code",
   "execution_count": null,
   "metadata": {},
   "outputs": [],
   "source": [
    "# Load necessary modules\n",
    "# Python Modules\n",
    "import yaml\n",
    "import matplotlib.pyplot as plt \n",
    "import pprint\n",
    "import numpy as np\n",
    "\n",
    "# ROSCO Modules\n",
    "from ROSCO_toolbox import turbine as wtc_turbine\n",
    "from ROSCO_toolbox import utilities as wtc_utilities\n",
    "from ROSCO_toolbox import sim as wtc_sim\n",
    "from ROSCO_toolbox import utilities as wtc_utilities\n",
    "from ROSCO_toolbox import controller as wtc_controller\n",
    "from ROSCO_toolbox import control_interface as wtc_ci"
   ]
  },
  {
   "cell_type": "markdown",
   "metadata": {},
   "source": [
    "## .yaml files \n",
    "We use yaml files as the top level input file to the ROSCO generic tuning process.\n",
    "\n",
    "### Three main parts:\n",
    "* Path Parameters\n",
    "    - Contains the path details of the OpenFAST input fails\n",
    "* Turbine Parameters\n",
    "    - Contains some high level turbine parameters. Rated power, important wind speeds, etc...\n",
    "* Controller Parameters\n",
    "    - Contains the controller parameters. Some are necessary, the rest are optional\n",
    "    \n",
    "#### Lets load and look at our controller paremeters..."
   ]
  },
  {
   "cell_type": "code",
   "execution_count": null,
   "metadata": {},
   "outputs": [],
   "source": [
    "# Load yaml file \n",
    "parameter_filename = 'NREL5MW_example.yaml'\n",
    "inps = yaml.safe_load(open(parameter_filename))\n",
    "path_params         = inps['path_params']\n",
    "turbine_params      = inps['turbine_params']\n",
    "controller_params   = inps['controller_params']"
   ]
  },
  {
   "cell_type": "code",
   "execution_count": null,
   "metadata": {},
   "outputs": [],
   "source": [
    "pprint.pprint(controller_params)"
   ]
  },
  {
   "cell_type": "markdown",
   "metadata": {},
   "source": [
    "### So, what do we care about here?\n",
    "Note that items with a star need at least a 0 or a 1. They're fairly standard, though...\n",
    "1. Filter types\n",
    "    * A few are available. Generally, first and second order low pass filters, high pass, and notch. They are used for a few different purposes\n",
    "2. Control Modes\n",
    "    * Which control modes you would like. There are a few different options, example .yaml files are provided in the toolbox.\n",
    "3. omega_* and zeta_*\n",
    "    * These are the __four__ controller tuning parameters that you need to define. Again, some example files for different turbines are provided to help build some intuition on these.\n",
    "4. The rest..\n",
    "    * The rest of these are optional. If you would like to define these, go for it. Otherwise you don't need to"
   ]
  },
  {
   "cell_type": "markdown",
   "metadata": {},
   "source": [
    "## Loading a Turbine model\n",
    "We will load a turbine model and look at it a bit. Note that `path_params['rotor_performance_filename']` is defined, so we will not run CC-blade in this tutorial. You could though, if you have a couple minutes!"
   ]
  },
  {
   "cell_type": "code",
   "execution_count": null,
   "metadata": {},
   "outputs": [],
   "source": [
    "# Load turbine data from openfast model\n",
    "turbine = wtc_turbine.Turbine(turbine_params)\n",
    "turbine.load_from_fast(path_params['FAST_InputFile'],path_params['FAST_directory'],dev_branch=True,rot_source='txt',txt_filename=path_params['rotor_performance_filename'])\n"
   ]
  },
  {
   "cell_type": "markdown",
   "metadata": {},
   "source": [
    "### Look at some basic turbine information and plot a Cp-surface"
   ]
  },
  {
   "cell_type": "code",
   "execution_count": null,
   "metadata": {},
   "outputs": [],
   "source": [
    "print(turbine)\n",
    "# Plot rotor performance information\n",
    "turbine.Cp.plot_performance(turbine.Cp_table, turbine.pitch_initial_rad, turbine.TSR_initial)\n",
    "plt.show()"
   ]
  },
  {
   "cell_type": "markdown",
   "metadata": {},
   "source": [
    "## Tune a controller\n",
    "We now have loaded our wind turbine model. Lets tune the controller "
   ]
  },
  {
   "cell_type": "code",
   "execution_count": null,
   "metadata": {},
   "outputs": [],
   "source": [
    "# Tune controller \n",
    "controller      = wtc_controller.Controller(controller_params)\n",
    "controller.tune_controller(turbine)"
   ]
  },
  {
   "cell_type": "markdown",
   "metadata": {},
   "source": [
    "**WOW! That was easy...**\n",
    "\n",
    "Lets plot our PI gains and write the ROSCO input file"
   ]
  },
  {
   "cell_type": "code",
   "execution_count": null,
   "metadata": {},
   "outputs": [],
   "source": [
    "# Plot gain schedule\n",
    "fig, axs = plt.subplots(1, 2, sharey=True)\n",
    "axs[0].plot(controller.v[len(controller.vs_gain_schedule.Kp):], controller.pc_gain_schedule.Kp)\n",
    "axs[0].set_xlabel('Wind Speed')\n",
    "axs[0].set_ylabel('Proportional Gain')\n",
    "axs[0].grid('True')\n",
    "\n",
    "axs[1].plot(controller.v[len(controller.vs_gain_schedule.Ki):], controller.pc_gain_schedule.Ki)\n",
    "axs[1].set_xlabel('Wind Speed')\n",
    "axs[1].set_ylabel('Integral Gain')\n",
    "axs[1].grid('True')\n"
   ]
  },
  {
   "cell_type": "code",
   "execution_count": null,
   "metadata": {},
   "outputs": [],
   "source": [
    "# Write parameter input file\n",
    "file_processing = wtc_utilities.FileProcessing()\n",
    "param_file = 'DISCON.IN'   # This must be named DISCON.IN to be seen by the compiled controller binary. \n",
    "file_processing.write_param_file(turbine,controller,param_file=param_file, txt_filename=path_params['rotor_performance_filename'])"
   ]
  },
  {
   "cell_type": "markdown",
   "metadata": {},
   "source": [
    "### What else can the controller do and see?\n",
    "Lets look at our minimum pitch schedule. We will need to:\n",
    "1. Change `PS_Mode = 1` for peak chaving\n",
    "2. Retune the controller. Let's call it `controller_ps`\n",
    "3. Plot the results"
   ]
  },
  {
   "cell_type": "code",
   "execution_count": null,
   "metadata": {},
   "outputs": [],
   "source": [
    "# Change pitch saturation parameter to peak shave\n",
    "controller_params['PS_Mode'] = 1\n",
    "\n",
    "# Retune the controller\n",
    "controller2 = wtc_controller.Controller(controller_params)\n",
    "controller2.tune_controller(turbine)\n",
    "\n",
    "# Plot minimum pitch schedule\n",
    "plt.plot(controller2.v, controller2.pitch_op,label='Steady State Operation')\n",
    "plt.plot(controller2.v, controller2.ps_min_bld_pitch, label='Minimum Pitch Schedule')\n",
    "plt.legend()\n",
    "plt.xlabel('Wind speed (m/s)')\n",
    "plt.ylabel('Blade pitch (rad)')\n",
    "plt.show()"
   ]
  },
  {
   "cell_type": "markdown",
   "metadata": {},
   "source": [
    "### Quick Simulate..\n",
    "We can also run a small one degree of freedom simulation to see if our tuning makes sense"
   ]
  },
  {
   "cell_type": "code",
   "execution_count": null,
   "metadata": {},
   "outputs": [],
   "source": [
    "# Specify controller dynamic library path and name\n",
    "lib_name = ('../ROSCO/build/libdiscon.dylib')\n",
    "\n",
    "# Load the simulator and controller interface\n",
    "controller_int = wtc_ci.ControllerInterface(lib_name)\n",
    "sim = wtc_sim.Sim(turbine,controller_int)\n",
    "\n",
    "# Define a wind speed history\n",
    "dt = 0.1\n",
    "tlen = 1000      # length of time to simulate (s)\n",
    "ws0 = 7         # initial wind speed (m/s)\n",
    "t= np.arange(0,tlen,dt) \n",
    "ws = np.ones_like(t) * ws0\n",
    "# add steps at every 100s\n",
    "for i in range(len(t)):\n",
    "    ws[i] = ws[i] + t[i]//100\n",
    "\n",
    "# Run simulator and plot results\n",
    "sim.sim_ws_series(t,ws,rotor_rpm_init=4)\n",
    "plt.show()"
   ]
  },
  {
   "cell_type": "markdown",
   "metadata": {},
   "source": [
    "Note that his doesn't look _exactly_ how we would like our final controller to behave. This tool (currently) is to help build some intuition on if the controller is working reasonably. It does not have any significant dynamics, though."
   ]
  },
  {
   "cell_type": "markdown",
   "metadata": {},
   "source": [
    "## OpenFAST Runs\n",
    "We could run an OpenFAST simulation, but that will take some time. You will have to trust me that it works. See example 6 if you don't. We look at some post-processing stuff though...\n",
    "\n",
    "### Post processing OpenFAST\n",
    "Currently, we have some basic plotting functionalities available. This is nice, as it gives us the chance to quickly and alogithmically look at some relevant control signals. \n",
    "\n",
    "#### Step wind case"
   ]
  },
  {
   "cell_type": "code",
   "execution_count": null,
   "metadata": {},
   "outputs": [],
   "source": [
    "# Instantiate FAST_IO\n",
    "fast_io = wtc_utilities.FAST_IO()\n",
    "\n",
    "# Define openfast output filenames\n",
    "filenames = [\"../Test_Cases/5MW_Step/5MW_Step.outb\"]\n",
    "\n",
    "# Load output info and data\n",
    "allinfo, alldata = fast_io.load_output(filenames)\n",
    "\n",
    "#  Define Plot cases \n",
    "cases = {}\n",
    "cases['Baseline'] = ['Wind1VelX', 'BldPitch1', 'GenTq', 'RotSpeed']\n",
    "cases['Rotor Performance'] = ['RtVAvgxh', 'RtTSR', 'RtAeroCp']\n",
    "\n",
    "# Plot, woohoo!\n",
    "fast_io.plot_fast_out(cases, allinfo, alldata)"
   ]
  },
  {
   "cell_type": "markdown",
   "metadata": {},
   "source": [
    "#### Turbulent wind case\n",
    "Lets look at the near turbulent cases with and without peak shaving (80%)"
   ]
  },
  {
   "cell_type": "code",
   "execution_count": null,
   "metadata": {},
   "outputs": [],
   "source": [
    "# Define openfast output filenames\n",
    "filenames = [\"../Test_Cases/5MW_Turb_NR/5MW_Turb_NR.out\", # Note that we can load txt or binary outputs\n",
    "             \"../Test_Cases/5MW_Turb_NR_ps/5MW_Turb_NR_ps.outb\"]\n",
    "\n",
    "# Load output info and data\n",
    "allinfo, alldata = fast_io.load_output(filenames)\n",
    "\n",
    "#  Define Plot cases \n",
    "cases = {}\n",
    "cases['Baseline'] = ['Wind1VelX', 'BldPitch1', 'GenTq', 'RotSpeed']\n",
    "cases['Peak Shaving'] = ['Wind1VelX', 'BldPitch1', 'TwrBsMyt']\n",
    "\n",
    "# Plot, woohoo!\n",
    "fast_io.plot_fast_out(cases, allinfo, alldata)"
   ]
  },
  {
   "cell_type": "markdown",
   "metadata": {},
   "source": [
    "## In conclusion\n",
    "Hopefully this jupyter notebook showed some good working examples of what the overall functions of the ROSCO toolbox and associated ROSCO controller have to offer. Of course, I encourage you all to dig into the code a bit more. There are a number of examples offered in Examples folder (shockingly). These go over a number of the same functionalities that this notebook did, but in a little bit more detail and perhaps a more functional way. \n",
    "\n",
    "Of course, please offer your feedback on where you can see advancements in any of this work. You can reach me personally at nikhar.abbas@nrel.gov, or submit any issue/pull requests to the associated git repository itself. This project is meant to be ongoing and continue to evolve - and I would REALLY love the help in doing so!\n",
    "\n",
    "I would finally like to note that there has been a lot of work from a lot of very smart (and really great) people that has gone into all of this, some of which are acknowledged on the [ROSCO toolbox](www.github.com/nrel/ROSCO_toolbox) and [ROSCO](www.github.com/nrel/ROSCO_toolbox) github pages. "
   ]
  }
 ],
 "metadata": {
  "kernelspec": {
   "display_name": "Python 3",
   "language": "python",
   "name": "python3"
  },
  "language_info": {
   "codemirror_mode": {
    "name": "ipython",
    "version": 3
   },
   "file_extension": ".py",
   "mimetype": "text/x-python",
   "name": "python",
   "nbconvert_exporter": "python",
   "pygments_lexer": "ipython3",
   "version": "3.7.3"
  }
 },
 "nbformat": 4,
 "nbformat_minor": 2
}
